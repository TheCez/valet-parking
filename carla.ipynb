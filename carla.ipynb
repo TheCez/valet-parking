{
 "cells": [
  {
   "cell_type": "code",
   "execution_count": 3,
   "metadata": {},
   "outputs": [],
   "source": [
    "import carla\n",
    "import random"
   ]
  },
  {
   "cell_type": "code",
   "execution_count": 4,
   "metadata": {},
   "outputs": [
    {
     "ename": "",
     "evalue": "",
     "output_type": "error",
     "traceback": [
      "\u001b[1;31mThe Kernel crashed while executing code in the current cell or a previous cell. \n",
      "\u001b[1;31mPlease review the code in the cell(s) to identify a possible cause of the failure. \n",
      "\u001b[1;31mClick <a href='https://aka.ms/vscodeJupyterKernelCrash'>here</a> for more info. \n",
      "\u001b[1;31mView Jupyter <a href='command:jupyter.viewOutput'>log</a> for further details."
     ]
    }
   ],
   "source": [
    "# Connect to the client and retrieve the world object\n",
    "client = carla.Client('localhost', 2000)\n",
    "world = client.get_world()"
   ]
  },
  {
   "cell_type": "code",
   "execution_count": 9,
   "metadata": {},
   "outputs": [
    {
     "ename": "",
     "evalue": "",
     "output_type": "error",
     "traceback": [
      "\u001b[1;31mThe Kernel crashed while executing code in the current cell or a previous cell. \n",
      "\u001b[1;31mPlease review the code in the cell(s) to identify a possible cause of the failure. \n",
      "\u001b[1;31mClick <a href='https://aka.ms/vscodeJupyterKernelCrash'>here</a> for more info. \n",
      "\u001b[1;31mView Jupyter <a href='command:jupyter.viewOutput'>log</a> for further details."
     ]
    }
   ],
   "source": [
    "client.load_world('valet_new_test_final')"
   ]
  },
  {
   "cell_type": "code",
   "execution_count": 3,
   "metadata": {},
   "outputs": [],
   "source": [
    "# Get the blueprint library and filter for the vehicle blueprints\n",
    "# vehicle_blueprints = world.get_blueprint_library().filter('*vehicle*')\n",
    "\n",
    "vehicle_blueprints = world.get_blueprint_library().find('vehicle.mini.cooper_s_2021')"
   ]
  },
  {
   "cell_type": "code",
   "execution_count": 4,
   "metadata": {},
   "outputs": [],
   "source": [
    "spawn_points = world.get_map().get_spawn_points()\n"
   ]
  },
  {
   "cell_type": "code",
   "execution_count": 5,
   "metadata": {},
   "outputs": [
    {
     "name": "stdout",
     "output_type": "stream",
     "text": [
      "[<carla.libcarla.Transform object at 0x0000023B456E0840>, <carla.libcarla.Transform object at 0x0000023B456E08C0>, <carla.libcarla.Transform object at 0x0000023B45772040>, <carla.libcarla.Transform object at 0x0000023B457720C0>, <carla.libcarla.Transform object at 0x0000023B45772140>, <carla.libcarla.Transform object at 0x0000023B457721C0>, <carla.libcarla.Transform object at 0x0000023B45772240>, <carla.libcarla.Transform object at 0x0000023B457722C0>, <carla.libcarla.Transform object at 0x0000023B45772340>, <carla.libcarla.Transform object at 0x0000023B45772440>, <carla.libcarla.Transform object at 0x0000023B457724C0>, <carla.libcarla.Transform object at 0x0000023B45772540>, <carla.libcarla.Transform object at 0x0000023B457725C0>, <carla.libcarla.Transform object at 0x0000023B45772640>, <carla.libcarla.Transform object at 0x0000023B457726C0>, <carla.libcarla.Transform object at 0x0000023B45772740>, <carla.libcarla.Transform object at 0x0000023B457727C0>, <carla.libcarla.Transform object at 0x0000023B457723C0>, <carla.libcarla.Transform object at 0x0000023B45772840>, <carla.libcarla.Transform object at 0x0000023B457728C0>, <carla.libcarla.Transform object at 0x0000023B45772940>, <carla.libcarla.Transform object at 0x0000023B457729C0>, <carla.libcarla.Transform object at 0x0000023B45772A40>]\n"
     ]
    }
   ],
   "source": [
    "print(spawn_points)"
   ]
  },
  {
   "cell_type": "code",
   "execution_count": 10,
   "metadata": {},
   "outputs": [
    {
     "data": {
      "text/plain": [
       "<carla.libcarla.Vehicle at 0x18ca21cb6d0>"
      ]
     },
     "execution_count": 10,
     "metadata": {},
     "output_type": "execute_result"
    }
   ],
   "source": [
    "world.try_spawn_actor(vehicle_blueprints, spawn_points[-6])"
   ]
  },
  {
   "cell_type": "code",
   "execution_count": 5,
   "metadata": {},
   "outputs": [],
   "source": [
    "for i in range(len(spawn_points)-6, len(spawn_points)):\n",
    "    # world.try_spawn_actor(random.choice(vehicle_blueprints), random.choice(spawn_points))\n",
    "    world.try_spawn_actor(vehicle_blueprints, spawn_points[i])"
   ]
  },
  {
   "cell_type": "code",
   "execution_count": 7,
   "metadata": {},
   "outputs": [],
   "source": [
    "# Get the map's spawn points\n",
    "spawn_points = world.get_map().get_spawn_points()\n",
    "\n",
    "# Spawn 50 vehicles randomly distributed throughout the map \n",
    "# for each spawn point, we choose a random vehicle from the blueprint library\n",
    "for i in range(0, 12):\n",
    "    # world.try_spawn_actor(random.choice(vehicle_blueprints), random.choice(spawn_points))\n",
    "    world.try_spawn_actor(vehicle_blueprints, random.choice(spawn_points))"
   ]
  },
  {
   "cell_type": "code",
   "execution_count": 8,
   "metadata": {},
   "outputs": [],
   "source": [
    "for vehicle in world.get_actors().filter('*vehicle*'):\n",
    "    vehicle.set_autopilot(True)"
   ]
  },
  {
   "cell_type": "code",
   "execution_count": 1,
   "metadata": {},
   "outputs": [
    {
     "ename": "NameError",
     "evalue": "name 'world' is not defined",
     "output_type": "error",
     "traceback": [
      "\u001b[1;31m---------------------------------------------------------------------------\u001b[0m",
      "\u001b[1;31mNameError\u001b[0m                                 Traceback (most recent call last)",
      "Cell \u001b[1;32mIn[1], line 1\u001b[0m\n\u001b[1;32m----> 1\u001b[0m \u001b[38;5;28;01mfor\u001b[39;00m vehicle \u001b[38;5;129;01min\u001b[39;00m \u001b[43mworld\u001b[49m\u001b[38;5;241m.\u001b[39mget_actors()\u001b[38;5;241m.\u001b[39mfilter(\u001b[38;5;124m'\u001b[39m\u001b[38;5;124m*vehicle*\u001b[39m\u001b[38;5;124m'\u001b[39m):\n\u001b[0;32m      2\u001b[0m     vehicle\u001b[38;5;241m.\u001b[39mdestroy()\n",
      "\u001b[1;31mNameError\u001b[0m: name 'world' is not defined"
     ]
    }
   ],
   "source": [
    "for vehicle in world.get_actors().filter('*vehicle*'):\n",
    "    vehicle.destroy()"
   ]
  },
  {
   "cell_type": "code",
   "execution_count": null,
   "metadata": {},
   "outputs": [],
   "source": []
  }
 ],
 "metadata": {
  "kernelspec": {
   "display_name": "Python 3",
   "language": "python",
   "name": "python3"
  },
  "language_info": {
   "codemirror_mode": {
    "name": "ipython",
    "version": 3
   },
   "file_extension": ".py",
   "mimetype": "text/x-python",
   "name": "python",
   "nbconvert_exporter": "python",
   "pygments_lexer": "ipython3",
   "version": "3.8.10"
  }
 },
 "nbformat": 4,
 "nbformat_minor": 2
}
